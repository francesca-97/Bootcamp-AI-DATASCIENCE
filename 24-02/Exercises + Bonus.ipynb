{
 "cells": [
  {
   "cell_type": "markdown",
   "id": "96e00b2e-a685-465d-b72e-dbf329db7f3c",
   "metadata": {
    "id": "96e00b2e-a685-465d-b72e-dbf329db7f3c"
   },
   "source": [
    "# Exercises"
   ]
  },
  {
   "cell_type": "markdown",
   "id": "c56c4260-2acd-429b-8cce-2078dcc0eaca",
   "metadata": {
    "id": "c56c4260-2acd-429b-8cce-2078dcc0eaca"
   },
   "source": [
    "1) Write a query to find first name and last name of employees whose first name:\n",
    "- has 3 letters\n",
    "- ends in 'a'"
   ]
  },
  {
   "cell_type": "code",
   "execution_count": 2,
   "id": "bd62cfb2-29e5-42e5-8984-7330f03688fb",
   "metadata": {},
   "outputs": [],
   "source": [
    "%load_ext sql\n",
    "%config SqlMagic.style = '_DEPRECATED_DEFAULT'"
   ]
  },
  {
   "cell_type": "code",
   "execution_count": 3,
   "id": "ea0589a1-d491-4b32-aa0a-2c1f5876e76b",
   "metadata": {
    "id": "ea0589a1-d491-4b32-aa0a-2c1f5876e76b"
   },
   "outputs": [],
   "source": [
    "%sql sqlite:///my_database.db"
   ]
  },
  {
   "cell_type": "code",
   "execution_count": 4,
   "id": "cddab598-2ee5-46e7-8bfe-eea515248497",
   "metadata": {
    "id": "cddab598-2ee5-46e7-8bfe-eea515248497",
    "outputId": "6b87ee64-3068-4ea0-cf69-2b8fa529f20b"
   },
   "outputs": [
    {
     "name": "stdout",
     "output_type": "stream",
     "text": [
      " * sqlite:///my_database.db\n",
      "Done.\n"
     ]
    },
    {
     "data": {
      "text/html": [
       "<table>\n",
       "    <thead>\n",
       "        <tr>\n",
       "            <th>first_name</th>\n",
       "            <th>last_name</th>\n",
       "        </tr>\n",
       "    </thead>\n",
       "    <tbody>\n",
       "        <tr>\n",
       "            <td>Eva</td>\n",
       "            <td>Brown</td>\n",
       "        </tr>\n",
       "    </tbody>\n",
       "</table>"
      ],
      "text/plain": [
       "[('Eva', 'Brown')]"
      ]
     },
     "execution_count": 4,
     "metadata": {},
     "output_type": "execute_result"
    }
   ],
   "source": [
    "%%sql\n",
    "SELECT first_name, last_name\n",
    "FROM employees\n",
    "WHERE LENGTH(first_name) = 3 AND  first_name LIKE '%a';\n"
   ]
  },
  {
   "cell_type": "markdown",
   "id": "033003e7-906a-49c8-ad63-f7026fcbba4d",
   "metadata": {
    "id": "033003e7-906a-49c8-ad63-f7026fcbba4d"
   },
   "source": [
    "2) Write a query to find, for each department:\n",
    "- the name of the department\n",
    "- the number of employees\n",
    "- the number of employees who received a bonus\n",
    "- the total amount of bonuses disbursed"
   ]
  },
  {
   "cell_type": "code",
   "execution_count": 5,
   "id": "06762233-c936-4b18-8c0d-e7299537af3f",
   "metadata": {
    "id": "06762233-c936-4b18-8c0d-e7299537af3f",
    "outputId": "008a7612-d407-4dba-a9f4-3bd0676e7ea0"
   },
   "outputs": [
    {
     "name": "stdout",
     "output_type": "stream",
     "text": [
      " * sqlite:///my_database.db\n",
      "Done.\n"
     ]
    },
    {
     "data": {
      "text/html": [
       "<table>\n",
       "    <thead>\n",
       "        <tr>\n",
       "            <th>department_name</th>\n",
       "            <th>num_employees</th>\n",
       "            <th>num_bonus_received</th>\n",
       "            <th>total_bonus_disbursed</th>\n",
       "        </tr>\n",
       "    </thead>\n",
       "    <tbody>\n",
       "        <tr>\n",
       "            <td>Sales</td>\n",
       "            <td>3</td>\n",
       "            <td>2</td>\n",
       "            <td>10000.0</td>\n",
       "        </tr>\n",
       "        <tr>\n",
       "            <td>Engineering</td>\n",
       "            <td>3</td>\n",
       "            <td>2</td>\n",
       "            <td>15000.0</td>\n",
       "        </tr>\n",
       "        <tr>\n",
       "            <td>Marketing</td>\n",
       "            <td>2</td>\n",
       "            <td>1</td>\n",
       "            <td>5000.0</td>\n",
       "        </tr>\n",
       "        <tr>\n",
       "            <td>HR</td>\n",
       "            <td>2</td>\n",
       "            <td>2</td>\n",
       "            <td>6000.0</td>\n",
       "        </tr>\n",
       "        <tr>\n",
       "            <td>Finance</td>\n",
       "            <td>2</td>\n",
       "            <td>1</td>\n",
       "            <td>4500.0</td>\n",
       "        </tr>\n",
       "    </tbody>\n",
       "</table>"
      ],
      "text/plain": [
       "[('Sales', 3, 2, 10000.0),\n",
       " ('Engineering', 3, 2, 15000.0),\n",
       " ('Marketing', 2, 1, 5000.0),\n",
       " ('HR', 2, 2, 6000.0),\n",
       " ('Finance', 2, 1, 4500.0)]"
      ]
     },
     "execution_count": 5,
     "metadata": {},
     "output_type": "execute_result"
    }
   ],
   "source": [
    "%%sql\n",
    "SELECT d.name AS department_name,\n",
    "    COUNT(e.id) AS num_employees,\n",
    "    COUNT(e.bonus) AS num_bonus_received,\n",
    "    SUM(e.bonus) AS total_bonus_disbursed\n",
    "FROM employees e\n",
    "JOIN departments d ON e.department_id = d.id\n",
    "GROUP BY d.name\n",
    "ORDER BY num_employees DESC\n"
   ]
  },
  {
   "cell_type": "markdown",
   "id": "969b6d79-218c-4f63-be0b-2b326dd0d185",
   "metadata": {
    "id": "969b6d79-218c-4f63-be0b-2b326dd0d185"
   },
   "source": [
    "# Bonus exercise\n",
    "3) Write a query to find employees who received the same bonus as at least one other employee.\n"
   ]
  },
  {
   "cell_type": "markdown",
   "id": "0d492954-1c2b-4791-9807-9d107f9ec075",
   "metadata": {
    "id": "0d492954-1c2b-4791-9807-9d107f9ec075"
   },
   "source": [
    "*Soluzione con una Self-Join*"
   ]
  },
  {
   "cell_type": "code",
   "execution_count": 6,
   "id": "11fc3504-3932-4bc9-b82e-ae6c0f578719",
   "metadata": {
    "id": "11fc3504-3932-4bc9-b82e-ae6c0f578719",
    "outputId": "57381aba-f95c-415d-e275-09d64c1a51fa"
   },
   "outputs": [
    {
     "name": "stdout",
     "output_type": "stream",
     "text": [
      " * sqlite:///my_database.db\n",
      "Done.\n"
     ]
    },
    {
     "data": {
      "text/html": [
       "<table>\n",
       "    <thead>\n",
       "        <tr>\n",
       "            <th>first_name</th>\n",
       "            <th>last_name</th>\n",
       "            <th>bonus</th>\n",
       "        </tr>\n",
       "    </thead>\n",
       "    <tbody>\n",
       "        <tr>\n",
       "            <td>Bob</td>\n",
       "            <td>Johnson</td>\n",
       "            <td>5000.0</td>\n",
       "        </tr>\n",
       "        <tr>\n",
       "            <td>Ivy</td>\n",
       "            <td>Moore</td>\n",
       "            <td>5000.0</td>\n",
       "        </tr>\n",
       "    </tbody>\n",
       "</table>"
      ],
      "text/plain": [
       "[('Bob', 'Johnson', 5000.0), ('Ivy', 'Moore', 5000.0)]"
      ]
     },
     "execution_count": 6,
     "metadata": {},
     "output_type": "execute_result"
    }
   ],
   "source": [
    "%%sql\n",
    "SELECT e1.first_name, e1.last_name, e1.bonus\n",
    "FROM employees e1\n",
    "JOIN employees e2\n",
    "ON e1.bonus = e2.bonus\n",
    "AND e1.id != e2.id\n"
   ]
  },
  {
   "cell_type": "markdown",
   "id": "5a1a48e9-3c79-4941-a5c9-49df44ad56c2",
   "metadata": {
    "id": "5a1a48e9-3c79-4941-a5c9-49df44ad56c2"
   },
   "source": [
    "Ho usato e1.id != e2.id per evitare il confronto del dipendente con se stesso"
   ]
  },
  {
   "cell_type": "code",
   "execution_count": null,
   "id": "99dfd4ee-6aa3-4d02-b26d-8b8836aa3ae5",
   "metadata": {
    "id": "99dfd4ee-6aa3-4d02-b26d-8b8836aa3ae5"
   },
   "outputs": [],
   "source": []
  },
  {
   "cell_type": "code",
   "execution_count": null,
   "id": "e645672c-c9a9-46ca-93f6-26c2a6d8312e",
   "metadata": {},
   "outputs": [],
   "source": []
  }
 ],
 "metadata": {
  "colab": {
   "provenance": []
  },
  "kernelspec": {
   "display_name": "Python 3 (ipykernel)",
   "language": "python",
   "name": "python3"
  },
  "language_info": {
   "codemirror_mode": {
    "name": "ipython",
    "version": 3
   },
   "file_extension": ".py",
   "mimetype": "text/x-python",
   "name": "python",
   "nbconvert_exporter": "python",
   "pygments_lexer": "ipython3",
   "version": "3.13.1"
  }
 },
 "nbformat": 4,
 "nbformat_minor": 5
}
