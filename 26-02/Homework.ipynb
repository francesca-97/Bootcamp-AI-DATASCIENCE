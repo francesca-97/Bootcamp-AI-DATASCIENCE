{
 "cells": [
  {
   "cell_type": "markdown",
   "id": "fb7b3079-8d15-4b5b-903c-578cfdcfef18",
   "metadata": {},
   "source": [
    "# EXERCISE \n",
    "1) Write a Python function that determines if the distribution of a pandas Series is symmetric, right-skewed or left-skewed.\n",
    "\n",
    "2) A disease affects 2% of a population. The population is divided into three age groups:\n",
    "\t•\tYoung (50%): False positive rate 3%, sensitivity 95%.\n",
    "\t•\tMiddle-aged (30%): False positive rate 4%, sensitivity 90%.\n",
    "\t•\tElderly (20%): False positive rate 5%, sensitivity 85%.\n",
    "\n",
    "N.B.\n",
    "False positive rate: probability of a person testing positive when they do not have the disease.\n",
    "Sensitivity/True positive rate: probability of a person testing positive when they have the disease.\n",
    "\n",
    "If a random person from the population tests positive, what is the probability they actually have the disease?"
   ]
  },
  {
   "cell_type": "markdown",
   "id": "f2ec1d3a-787c-4fe3-b952-7243fe5dca6f",
   "metadata": {},
   "source": [
    "# 1"
   ]
  },
  {
   "cell_type": "code",
   "execution_count": 28,
   "id": "856b35a9-9471-4d8c-bb1d-49ce780b2c42",
   "metadata": {},
   "outputs": [],
   "source": [
    "import numpy as np\n",
    "import pandas as pd\n",
    "from scipy.stats import skew\n"
   ]
  },
  {
   "cell_type": "code",
   "execution_count": 29,
   "id": "354bb5cc-a417-4475-92f7-612c4dce9120",
   "metadata": {},
   "outputs": [
    {
     "name": "stdout",
     "output_type": "stream",
     "text": [
      "Dati simmetrici: Simmetrica\n",
      "Dati destra-asimmetrica: Destra-asimmetrica\n",
      "Dati sinistra-asimmetrica: Sinistra-asimmetrica\n"
     ]
    }
   ],
   "source": [
    "import pandas as pd\n",
    "import numpy as np\n",
    "\n",
    "def controlla_asimmetria(series, tolleranza=0.5):\n",
    "    \n",
    "    asimmetria = series.skew()\n",
    "    \n",
    "    if abs(asimmetria) < tolleranza:\n",
    "        return \"Simmetrica\"\n",
    "    elif asimmetria > 0:\n",
    "        return \"Destra-asimmetrica\"\n",
    "    else:\n",
    "        return \"Sinistra-asimmetrica\"\n",
    "\n",
    "# Test della funzione con le stesse distribuzioni\n",
    "np.random.seed(42)\n",
    "\n",
    "dati_simmetrici = pd.Series(np.random.normal(loc=0, scale=1, size=1000))\n",
    "dati_destra_asimmetrica = pd.Series(np.random.exponential(scale=1, size=1000))\n",
    "dati_sinistra_asimmetrica = pd.Series(-np.random.exponential(scale=1, size=1000))\n",
    "\n",
    "print(\"Dati simmetrici:\", controlla_asimmetria(dati_simmetrici))\n",
    "print(\"Dati destra-asimmetrica:\", controlla_asimmetria(dati_destra_asimmetrica))\n",
    "print(\"Dati sinistra-asimmetrica:\", controlla_asimmetria(dati_sinistra_asimmetrica))\n"
   ]
  },
  {
   "cell_type": "markdown",
   "id": "67a3e2b8-1920-46c8-84db-bd8881ecd834",
   "metadata": {},
   "source": [
    "# 2"
   ]
  },
  {
   "cell_type": "code",
   "execution_count": 16,
   "id": "9c21fff9-3b3c-41f9-a5cf-a0b8d28a9f47",
   "metadata": {},
   "outputs": [
    {
     "name": "stdout",
     "output_type": "stream",
     "text": [
      "La probabilità di avere la malattia dato un test positivo è: 0.3354\n"
     ]
    }
   ],
   "source": [
    "# Dati dell'esempio\n",
    "p_disease = 0.02\n",
    "p_not_disease = 1 - p_disease\n",
    "\n",
    "# Probabilità condizionate per ogni gruppo\n",
    "p_test_positive_true = (0.95*0.5 + 0.9*0.3 + 0.85*0.2) * p_disease  # Probabilità di test positivo in caso di malattia\n",
    "p_test_positive_false = (0.03*0.5 +  0.04*0.3 + 0.05*0.2) * p_not_disease  # Probabilità di test positivo in caso di non malattia\n",
    "\n",
    "# Probabilità totale di un test positivo\n",
    "p_test_positive = p_test_positive_true + p_test_positive_false\n",
    "\n",
    "# Probabilità di avere la malattia dato un test positivo\n",
    "p_disease_test_positive = p_test_positive_true / p_test_positive\n",
    "\n",
    "# Stampa il risultato\n",
    "print(f\"La probabilità di avere la malattia dato un test positivo è: {p_disease_test_positive:.4f}\")\n"
   ]
  },
  {
   "cell_type": "markdown",
   "id": "d012ae69-7523-4e2e-86e9-a231db3da75b",
   "metadata": {},
   "source": [
    "# OR"
   ]
  },
  {
   "cell_type": "code",
   "execution_count": 17,
   "id": "8588f015-b7f7-4380-9e5e-3e9c7209eb4c",
   "metadata": {},
   "outputs": [
    {
     "name": "stdout",
     "output_type": "stream",
     "text": [
      "La probabilità che una persona abbia effettivamente la malattia dato che è risultata positiva al test è: 0.3354\n"
     ]
    }
   ],
   "source": [
    "# Dati del problema\n",
    "p_disease = 0.02  # 2% della popolazione ha la malattia\n",
    "groups = {\n",
    "    \"YOUNG\": {\"pop\": 0.5, \"sens\": 0.95, \"fals_pos\": 0.03},\n",
    "    \"MIDDLE_AGE\": {\"pop\": 0.3, \"sens\": 0.90, \"fals_pos\": 0.04},\n",
    "    \"ELDERLY\": {\"pop\": 0.2, \"sens\": 0.85, \"fals_pos\": 0.05},\n",
    "}\n",
    "\n",
    "# Calcolo della probabilità totale di ottenere un test positivo\n",
    "p_positive = 0\n",
    "for group, values in groups.items():\n",
    "    p_group = values[\"pop\"]  # Probabilità di appartenere al gruppo\n",
    "    p_pos_given_disease = values[\"sens\"]  # Sensibilità (vero positivo)\n",
    "    p_pos_given_no_disease = values[\"fals_pos\"]  # Falso positivo\n",
    "    \n",
    "    # P(test positivo | gruppo) = P(test positivo | malato) * P(malato) + P(test positivo | sano) * P(sano)\n",
    "    p_positive_group = (p_pos_given_disease * p_disease) + (p_pos_given_no_disease * (1 - p_disease))\n",
    "    \n",
    "    # P(test positivo) = somma pesata per ogni gruppo\n",
    "    p_positive += p_positive_group * p_group\n",
    "# Calcolo della probabilità condizionata di avere la malattia dato un test positivo (Teorema di Bayes)\n",
    "p_disease_given_positive = 0\n",
    "for group, values in groups.items():\n",
    "    p_group = values[\"pop\"]\n",
    "    p_pos_given_disease = values[\"sens\"]\n",
    "    \n",
    "    # P(malato | test positivo) per il gruppo\n",
    "    p_disease_given_positive_group = (p_pos_given_disease * p_disease) / p_positive\n",
    "    \n",
    "    # Pesiamo per la probabilità di appartenere al gruppo\n",
    "    p_disease_given_positive += p_disease_given_positive_group * p_group\n",
    "\n",
    "# Stampa il risultato\n",
    "print(f\"La probabilità che una persona abbia effettivamente la malattia dato che è risultata positiva al test è: {p_disease_given_positive:.4f}\")"
   ]
  },
  {
   "cell_type": "code",
   "execution_count": null,
   "id": "029c5a62-34c8-4483-aa6f-2a157115c634",
   "metadata": {},
   "outputs": [],
   "source": []
  }
 ],
 "metadata": {
  "kernelspec": {
   "display_name": "Python 3 (ipykernel)",
   "language": "python",
   "name": "python3"
  },
  "language_info": {
   "codemirror_mode": {
    "name": "ipython",
    "version": 3
   },
   "file_extension": ".py",
   "mimetype": "text/x-python",
   "name": "python",
   "nbconvert_exporter": "python",
   "pygments_lexer": "ipython3",
   "version": "3.13.1"
  }
 },
 "nbformat": 4,
 "nbformat_minor": 5
}
