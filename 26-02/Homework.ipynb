{
 "cells": [
  {
   "cell_type": "markdown",
   "id": "fb7b3079-8d15-4b5b-903c-578cfdcfef18",
   "metadata": {},
   "source": [
    "# EXERCISE \n",
    "1) Write a Python function that determines if the distribution of a pandas Series is symmetric, right-skewed or left-skewed.\n",
    "\n",
    "2) A disease affects 2% of a population. The population is divided into three age groups:\n",
    "\t•\tYoung (50%): False positive rate 3%, sensitivity 95%.\n",
    "\t•\tMiddle-aged (30%): False positive rate 4%, sensitivity 90%.\n",
    "\t•\tElderly (20%): False positive rate 5%, sensitivity 85%.\n",
    "\n",
    "N.B.\n",
    "False positive rate: probability of a person testing positive when they do not have the disease.\n",
    "Sensitivity/True positive rate: probability of a person testing positive when they have the disease.\n",
    "\n",
    "If a random person from the population tests positive, what is the probability they actually have the disease?"
   ]
  },
  {
   "cell_type": "markdown",
   "id": "f2ec1d3a-787c-4fe3-b952-7243fe5dca6f",
   "metadata": {},
   "source": [
    "# 1"
   ]
  },
  {
   "cell_type": "code",
   "execution_count": 1,
   "id": "856b35a9-9471-4d8c-bb1d-49ce780b2c42",
   "metadata": {},
   "outputs": [],
   "source": [
    "import numpy as np\n",
    "import pandas as pd\n",
    "from scipy.stats import skew\n"
   ]
  },
  {
   "cell_type": "code",
   "execution_count": 2,
   "id": "cbb5fd44-f4aa-4de9-9a5c-02ed7f27f9bc",
   "metadata": {},
   "outputs": [],
   "source": [
    "def check_symmetry(series):\n",
    "    skewness = skew(series)\n",
    "    if abs(skewness) < 0.05:\n",
    "        return \"Distribuzione simmetrica\"\n",
    "    elif skewness > 0:\n",
    "        return \"Distribuzione asimmetrica a destra (right-skewed)\"\n",
    "    else:\n",
    "        return \"Distribuzione asimmetrica a sinistra (left-skewed)\"\n"
   ]
  },
  {
   "cell_type": "code",
   "execution_count": 3,
   "id": "8e0136fc-fb53-429a-9f83-e45e345360b5",
   "metadata": {},
   "outputs": [
    {
     "data": {
      "text/plain": [
       "'Distribuzione asimmetrica a destra (right-skewed)'"
      ]
     },
     "execution_count": 3,
     "metadata": {},
     "output_type": "execute_result"
    }
   ],
   "source": [
    "# Esempio di utilizzo\n",
    "n = 1000\n",
    "np.random.seed(42)\n",
    "data = pd.Series(np.random.normal(0, 1, n))  # Distribuzione normale\n",
    "check_symmetry(data)\n"
   ]
  },
  {
   "cell_type": "markdown",
   "id": "67a3e2b8-1920-46c8-84db-bd8881ecd834",
   "metadata": {},
   "source": [
    "# 2"
   ]
  },
  {
   "cell_type": "code",
   "execution_count": 4,
   "id": "9c21fff9-3b3c-41f9-a5cf-a0b8d28a9f47",
   "metadata": {},
   "outputs": [],
   "source": [
    "# Dati del problema\n",
    "p_disease = 0.02  # 2% della popolazione ha la malattia\n"
   ]
  },
  {
   "cell_type": "code",
   "execution_count": 5,
   "id": "2adb54e4-b8d9-48d9-a685-85edd88c9ce4",
   "metadata": {},
   "outputs": [],
   "source": [
    "groups = {\n",
    "    \"YOUNG\": {\"pop\": 0.5, \"sens\": 0.95, \"fals_pos\": 0.03},\n",
    "    \"MIDDLE_AGE\": {\"pop\": 0.3, \"sens\": 0.90, \"fals_pos\": 0.04},\n",
    "    \"ELDERLY\": {\"pop\": 0.2, \"sens\": 0.85, \"fals_pos\": 0.05},\n",
    "}\n",
    "\n",
    "# Calcolo della probabilità totale di ottenere un test positivo\n",
    "p_positive = 0\n",
    "for group, values in groups.items():\n",
    "    p_group = values[\"pop\"]  # Probabilità di appartenere al gruppo\n",
    "    p_pos_given_disease = values[\"sens\"]  # Sensibilità (vero positivo)\n",
    "    p_pos_given_no_disease = values[\"fals_pos\"]  # Falso positivo\n",
    "    \n",
    "    # P(test positivo | gruppo) = P(test positivo | malato) * P(malato) + P(test positivo | sano) * P(sano)\n",
    "    p_positive_group = (p_pos_given_disease * p_disease) + (p_pos_given_no_disease * (1 - p_disease))\n",
    "    \n",
    "    # P(test positivo) = somma pesata per ogni gruppo\n",
    "    p_positive += p_positive_group * p_group\n"
   ]
  },
  {
   "cell_type": "code",
   "execution_count": 6,
   "id": "789732a7-9761-429f-a4c0-9b17cf6cb93a",
   "metadata": {},
   "outputs": [
    {
     "name": "stdout",
     "output_type": "stream",
     "text": [
      "La probabilità che una persona abbia effettivamente la malattia dato che è risultata positiva al test è: 0.3354\n"
     ]
    }
   ],
   "source": [
    "# Calcolo della probabilità condizionata di avere la malattia dato un test positivo (Teorema di Bayes)\n",
    "p_disease_given_positive = 0\n",
    "for group, values in groups.items():\n",
    "    p_group = values[\"pop\"]\n",
    "    p_pos_given_disease = values[\"sens\"]\n",
    "    \n",
    "    # P(malato | test positivo) per il gruppo\n",
    "    p_disease_given_positive_group = (p_pos_given_disease * p_disease) / p_positive\n",
    "    \n",
    "    # Pesiamo per la probabilità di appartenere al gruppo\n",
    "    p_disease_given_positive += p_disease_given_positive_group * p_group\n",
    "\n",
    "# Stampa il risultato\n",
    "print(f\"La probabilità che una persona abbia effettivamente la malattia dato che è risultata positiva al test è: {p_disease_given_positive:.4f}\")"
   ]
  },
  {
   "cell_type": "code",
   "execution_count": null,
   "id": "c37c1889-9cf6-4cab-84b5-7ff953f866d7",
   "metadata": {},
   "outputs": [],
   "source": []
  }
 ],
 "metadata": {
  "kernelspec": {
   "display_name": "Python 3 (ipykernel)",
   "language": "python",
   "name": "python3"
  },
  "language_info": {
   "codemirror_mode": {
    "name": "ipython",
    "version": 3
   },
   "file_extension": ".py",
   "mimetype": "text/x-python",
   "name": "python",
   "nbconvert_exporter": "python",
   "pygments_lexer": "ipython3",
   "version": "3.13.1"
  }
 },
 "nbformat": 4,
 "nbformat_minor": 5
}
